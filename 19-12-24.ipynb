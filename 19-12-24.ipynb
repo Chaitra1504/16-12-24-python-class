{
 "cells": [
  {
   "cell_type": "code",
   "execution_count": null,
   "id": "cc9766b9-9a23-42dd-867e-d9ad698057e3",
   "metadata": {},
   "outputs": [],
   "source": [
    "data source\n",
    "     .\n",
    "     .\n",
    "     v\n",
    "\n",
    "    E(EXTRACT)\n",
    "\n",
    "    T(TRANSFORM)\n",
    "\n",
    "    L(LOAD)\n",
    "\n",
    "    ETL IS MAINLY USED IN PYTHON.\n",
    "\n"
   ]
  },
  {
   "cell_type": "code",
   "execution_count": 2,
   "id": "3722843a-9b13-4891-b9eb-892120734cba",
   "metadata": {},
   "outputs": [
    {
     "name": "stdout",
     "output_type": "stream",
     "text": [
      "30\n"
     ]
    }
   ],
   "source": [
    "def add(a,b):\n",
    "    print(a+b)\n",
    "    \n",
    "    \n",
    "    \n",
    "    \n",
    "add(10,20)"
   ]
  },
  {
   "cell_type": "code",
   "execution_count": 3,
   "id": "35afa2e5-a51b-4747-be1b-e8ec94044d12",
   "metadata": {},
   "outputs": [
    {
     "name": "stdout",
     "output_type": "stream",
     "text": [
      "30\n",
      "3\n",
      "rahulgandhi\n"
     ]
    }
   ],
   "source": [
    "def add(a,b):\n",
    "    print(a+b)\n",
    "\n",
    "add(10,20)\n",
    "add(1,2)\n",
    "#add(1,\"anil\")#type error:\n",
    "add(\"rahul\",\"gandhi\")#rahulgandhi"
   ]
  },
  {
   "cell_type": "code",
   "execution_count": null,
   "id": "10ac1461-818f-4ba5-9dc8-d4e6ab0b4d7d",
   "metadata": {},
   "outputs": [],
   "source": []
  }
 ],
 "metadata": {
  "kernelspec": {
   "display_name": "Python 3 (ipykernel)",
   "language": "python",
   "name": "python3"
  },
  "language_info": {
   "codemirror_mode": {
    "name": "ipython",
    "version": 3
   },
   "file_extension": ".py",
   "mimetype": "text/x-python",
   "name": "python",
   "nbconvert_exporter": "python",
   "pygments_lexer": "ipython3",
   "version": "3.13.1"
  }
 },
 "nbformat": 4,
 "nbformat_minor": 5
}
