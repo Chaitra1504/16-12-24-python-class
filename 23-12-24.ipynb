{
 "cells": [
  {
   "cell_type": "code",
   "execution_count": 3,
   "id": "34196cda-ef01-4068-8308-e5f70356f1c4",
   "metadata": {},
   "outputs": [
    {
     "name": "stdout",
     "output_type": "stream",
     "text": [
      "inside outer fn\n",
      "inside inner fn\n",
      "inside inner fn\n"
     ]
    }
   ],
   "source": [
    "def outer():\n",
    "    print(\"inside outer fn\")\n",
    "\n",
    "\n",
    "    def inner():\n",
    "        print(\"inside inner fn\")\n",
    "    inner()\n",
    "    inner()\n",
    "\n",
    "outer()\n",
    "          "
   ]
  },
  {
   "cell_type": "code",
   "execution_count": 4,
   "id": "c9f19418-bc6a-49f9-9a4f-922d476e5e16",
   "metadata": {},
   "outputs": [
    {
     "name": "stdout",
     "output_type": "stream",
     "text": [
      "addition\n",
      "None\n"
     ]
    }
   ],
   "source": [
    "def add():\n",
    "    print(\"addition\")\n",
    "\n",
    "\n",
    "x=add()\n",
    "print(x)"
   ]
  },
  {
   "cell_type": "code",
   "execution_count": 6,
   "id": "adde1c4e-d328-440b-b9f8-9431f1ed39db",
   "metadata": {},
   "outputs": [
    {
     "name": "stdout",
     "output_type": "stream",
     "text": [
      "<function add at 0x0000029C26C723E0>\n",
      "addition\n",
      "addition\n",
      "addition\n",
      "addition\n",
      "addition\n",
      "addition\n"
     ]
    }
   ],
   "source": [
    "def add():\n",
    "    print(\"addition\")\n",
    "\n",
    "x=add\n",
    "print(x)\n",
    "x()\n",
    "x()\n",
    "x()\n",
    "x()\n",
    "x()\n",
    "x()"
   ]
  },
  {
   "cell_type": "code",
   "execution_count": 7,
   "id": "b038eedc-5d90-4c2a-9796-6ff28a0081fd",
   "metadata": {},
   "outputs": [
    {
     "name": "stdout",
     "output_type": "stream",
     "text": [
      "inside outer function\n",
      "inside inner function\n",
      "inside inner function\n"
     ]
    }
   ],
   "source": [
    "def outer():\n",
    "    print(\"inside outer function\")\n",
    "\n",
    "    def inner():\n",
    "        print(\"inside inner function\")\n",
    "\n",
    "    return inner\n",
    "\n",
    "inner=outer()\n",
    "inner()\n",
    "inner()\n"
   ]
  },
  {
   "cell_type": "code",
   "execution_count": 8,
   "id": "079e6bce-d0d5-4ced-a895-1e15a6d76b14",
   "metadata": {},
   "outputs": [
    {
     "name": "stdout",
     "output_type": "stream",
     "text": [
      "11\n"
     ]
    }
   ],
   "source": [
    "def add(a,b):\n",
    "    return a+b\n",
    "\n",
    "print(add(5,6))"
   ]
  },
  {
   "cell_type": "code",
   "execution_count": 22,
   "id": "3b1703bf-6108-40ec-8333-dbc1c01c1936",
   "metadata": {},
   "outputs": [
    {
     "name": "stdout",
     "output_type": "stream",
     "text": [
      "13\n"
     ]
    }
   ],
   "source": [
    "add=lambda a,b:a+b+2\n",
    "pass\n",
    "\n",
    "print(add(5,6))"
   ]
  },
  {
   "cell_type": "code",
   "execution_count": 12,
   "id": "323ee92b-8121-4ed9-b3cd-d119611934f3",
   "metadata": {},
   "outputs": [
    {
     "name": "stdout",
     "output_type": "stream",
     "text": [
      "400\n"
     ]
    }
   ],
   "source": [
    "# usage of lambda function\n",
    "square=lambda n:n*n\n",
    "pass\n",
    "\n",
    "print(square(20))"
   ]
  },
  {
   "cell_type": "code",
   "execution_count": 19,
   "id": "542e7984-a828-41ff-9c1f-f629887e87de",
   "metadata": {},
   "outputs": [
    {
     "name": "stdout",
     "output_type": "stream",
     "text": [
      "[10, 78, 14, 96, 42]\n"
     ]
    }
   ],
   "source": [
    "#filter() function is inbuilt function - to filter values from given sequence\n",
    "\n",
    "numbers=[10,78,14,96,117,11,31,42]\n",
    "\n",
    "def check(num):\n",
    "    if num%2 == 0:\n",
    "        return True\n",
    "    else:\n",
    "        return False\n",
    "\n",
    "filter_obj=filter(check,numbers)\n",
    "print(list(filter_obj))"
   ]
  },
  {
   "cell_type": "code",
   "execution_count": 20,
   "id": "220490a8-0475-4ab6-b21c-2af6d60bda89",
   "metadata": {},
   "outputs": [
    {
     "name": "stdout",
     "output_type": "stream",
     "text": [
      "[10, 78, 14, 96, 42]\n"
     ]
    }
   ],
   "source": [
    "#even numbers\n",
    "\n",
    "numbers=[10,78,14,96,117,11,31,42]\n",
    "\n",
    "def check(num):\n",
    "    return num%2 == 0\n",
    "\n",
    "even_numbers=list(filter(check,numbers))\n",
    "print(even_numbers)\n",
    "    "
   ]
  },
  {
   "cell_type": "code",
   "execution_count": 23,
   "id": "ead16b15-ded4-4381-a5a4-1caae5aa6609",
   "metadata": {},
   "outputs": [
    {
     "name": "stdout",
     "output_type": "stream",
     "text": [
      "[117, 11, 31]\n"
     ]
    }
   ],
   "source": [
    "#not even numbers(odd)\n",
    "\n",
    "numbers=[10,78,14,96,117,11,31,42]\n",
    "\n",
    "def check(num):\n",
    "    return num%2 != 0\n",
    "\n",
    "even_numbers=list(filter(check,numbers))\n",
    "print(even_numbers)\n"
   ]
  },
  {
   "cell_type": "code",
   "execution_count": null,
   "id": "3af2e71d-8425-46b0-9b5e-1cd02d278fda",
   "metadata": {},
   "outputs": [],
   "source": [
    "#using lambda function we are implementing filter() function\n",
    "\n"
   ]
  }
 ],
 "metadata": {
  "kernelspec": {
   "display_name": "Python 3 (ipykernel)",
   "language": "python",
   "name": "python3"
  },
  "language_info": {
   "codemirror_mode": {
    "name": "ipython",
    "version": 3
   },
   "file_extension": ".py",
   "mimetype": "text/x-python",
   "name": "python",
   "nbconvert_exporter": "python",
   "pygments_lexer": "ipython3",
   "version": "3.13.1"
  }
 },
 "nbformat": 4,
 "nbformat_minor": 5
}
